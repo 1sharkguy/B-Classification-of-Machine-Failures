{
 "cells": [
  {
   "cell_type": "code",
   "execution_count": 1,
   "id": "f5f9ee1c",
   "metadata": {},
   "outputs": [],
   "source": [
    "import pandas as pd\n",
    "train = pd.read_csv(\"train.csv\")\n",
    "test = pd.read_csv(\"test.csv\")"
   ]
  },
  {
   "cell_type": "code",
   "execution_count": 2,
   "id": "4322e360",
   "metadata": {},
   "outputs": [
    {
     "data": {
      "text/html": [
       "<div>\n",
       "<style scoped>\n",
       "    .dataframe tbody tr th:only-of-type {\n",
       "        vertical-align: middle;\n",
       "    }\n",
       "\n",
       "    .dataframe tbody tr th {\n",
       "        vertical-align: top;\n",
       "    }\n",
       "\n",
       "    .dataframe thead th {\n",
       "        text-align: right;\n",
       "    }\n",
       "</style>\n",
       "<table border=\"1\" class=\"dataframe\">\n",
       "  <thead>\n",
       "    <tr style=\"text-align: right;\">\n",
       "      <th></th>\n",
       "      <th>id</th>\n",
       "      <th>Product ID</th>\n",
       "      <th>Type</th>\n",
       "      <th>Air temperature [K]</th>\n",
       "      <th>Process temperature [K]</th>\n",
       "      <th>Rotational speed [rpm]</th>\n",
       "      <th>Torque [Nm]</th>\n",
       "      <th>Tool wear [min]</th>\n",
       "      <th>Machine failure</th>\n",
       "      <th>TWF</th>\n",
       "      <th>HDF</th>\n",
       "      <th>PWF</th>\n",
       "      <th>OSF</th>\n",
       "      <th>RNF</th>\n",
       "    </tr>\n",
       "  </thead>\n",
       "  <tbody>\n",
       "    <tr>\n",
       "      <th>0</th>\n",
       "      <td>0</td>\n",
       "      <td>L50096</td>\n",
       "      <td>L</td>\n",
       "      <td>300.6</td>\n",
       "      <td>309.6</td>\n",
       "      <td>1596</td>\n",
       "      <td>36.1</td>\n",
       "      <td>140</td>\n",
       "      <td>0</td>\n",
       "      <td>0</td>\n",
       "      <td>0</td>\n",
       "      <td>0</td>\n",
       "      <td>0</td>\n",
       "      <td>0</td>\n",
       "    </tr>\n",
       "    <tr>\n",
       "      <th>1</th>\n",
       "      <td>1</td>\n",
       "      <td>M20343</td>\n",
       "      <td>M</td>\n",
       "      <td>302.6</td>\n",
       "      <td>312.1</td>\n",
       "      <td>1759</td>\n",
       "      <td>29.1</td>\n",
       "      <td>200</td>\n",
       "      <td>0</td>\n",
       "      <td>0</td>\n",
       "      <td>0</td>\n",
       "      <td>0</td>\n",
       "      <td>0</td>\n",
       "      <td>0</td>\n",
       "    </tr>\n",
       "    <tr>\n",
       "      <th>2</th>\n",
       "      <td>2</td>\n",
       "      <td>L49454</td>\n",
       "      <td>L</td>\n",
       "      <td>299.3</td>\n",
       "      <td>308.5</td>\n",
       "      <td>1805</td>\n",
       "      <td>26.5</td>\n",
       "      <td>25</td>\n",
       "      <td>0</td>\n",
       "      <td>0</td>\n",
       "      <td>0</td>\n",
       "      <td>0</td>\n",
       "      <td>0</td>\n",
       "      <td>0</td>\n",
       "    </tr>\n",
       "    <tr>\n",
       "      <th>3</th>\n",
       "      <td>3</td>\n",
       "      <td>L53355</td>\n",
       "      <td>L</td>\n",
       "      <td>301.0</td>\n",
       "      <td>310.9</td>\n",
       "      <td>1524</td>\n",
       "      <td>44.3</td>\n",
       "      <td>197</td>\n",
       "      <td>0</td>\n",
       "      <td>0</td>\n",
       "      <td>0</td>\n",
       "      <td>0</td>\n",
       "      <td>0</td>\n",
       "      <td>0</td>\n",
       "    </tr>\n",
       "    <tr>\n",
       "      <th>4</th>\n",
       "      <td>4</td>\n",
       "      <td>M24050</td>\n",
       "      <td>M</td>\n",
       "      <td>298.0</td>\n",
       "      <td>309.0</td>\n",
       "      <td>1641</td>\n",
       "      <td>35.4</td>\n",
       "      <td>34</td>\n",
       "      <td>0</td>\n",
       "      <td>0</td>\n",
       "      <td>0</td>\n",
       "      <td>0</td>\n",
       "      <td>0</td>\n",
       "      <td>0</td>\n",
       "    </tr>\n",
       "    <tr>\n",
       "      <th>...</th>\n",
       "      <td>...</td>\n",
       "      <td>...</td>\n",
       "      <td>...</td>\n",
       "      <td>...</td>\n",
       "      <td>...</td>\n",
       "      <td>...</td>\n",
       "      <td>...</td>\n",
       "      <td>...</td>\n",
       "      <td>...</td>\n",
       "      <td>...</td>\n",
       "      <td>...</td>\n",
       "      <td>...</td>\n",
       "      <td>...</td>\n",
       "      <td>...</td>\n",
       "    </tr>\n",
       "    <tr>\n",
       "      <th>136424</th>\n",
       "      <td>136424</td>\n",
       "      <td>M22284</td>\n",
       "      <td>M</td>\n",
       "      <td>300.1</td>\n",
       "      <td>311.4</td>\n",
       "      <td>1530</td>\n",
       "      <td>37.5</td>\n",
       "      <td>210</td>\n",
       "      <td>0</td>\n",
       "      <td>0</td>\n",
       "      <td>0</td>\n",
       "      <td>0</td>\n",
       "      <td>0</td>\n",
       "      <td>0</td>\n",
       "    </tr>\n",
       "    <tr>\n",
       "      <th>136425</th>\n",
       "      <td>136425</td>\n",
       "      <td>H38017</td>\n",
       "      <td>H</td>\n",
       "      <td>297.5</td>\n",
       "      <td>308.5</td>\n",
       "      <td>1447</td>\n",
       "      <td>49.1</td>\n",
       "      <td>2</td>\n",
       "      <td>0</td>\n",
       "      <td>0</td>\n",
       "      <td>0</td>\n",
       "      <td>0</td>\n",
       "      <td>0</td>\n",
       "      <td>0</td>\n",
       "    </tr>\n",
       "    <tr>\n",
       "      <th>136426</th>\n",
       "      <td>136426</td>\n",
       "      <td>L54690</td>\n",
       "      <td>L</td>\n",
       "      <td>300.5</td>\n",
       "      <td>311.8</td>\n",
       "      <td>1524</td>\n",
       "      <td>38.5</td>\n",
       "      <td>214</td>\n",
       "      <td>0</td>\n",
       "      <td>0</td>\n",
       "      <td>0</td>\n",
       "      <td>0</td>\n",
       "      <td>0</td>\n",
       "      <td>0</td>\n",
       "    </tr>\n",
       "    <tr>\n",
       "      <th>136427</th>\n",
       "      <td>136427</td>\n",
       "      <td>L53876</td>\n",
       "      <td>L</td>\n",
       "      <td>301.7</td>\n",
       "      <td>310.9</td>\n",
       "      <td>1447</td>\n",
       "      <td>46.3</td>\n",
       "      <td>42</td>\n",
       "      <td>0</td>\n",
       "      <td>0</td>\n",
       "      <td>0</td>\n",
       "      <td>0</td>\n",
       "      <td>0</td>\n",
       "      <td>0</td>\n",
       "    </tr>\n",
       "    <tr>\n",
       "      <th>136428</th>\n",
       "      <td>136428</td>\n",
       "      <td>L47937</td>\n",
       "      <td>L</td>\n",
       "      <td>296.9</td>\n",
       "      <td>308.1</td>\n",
       "      <td>1557</td>\n",
       "      <td>39.3</td>\n",
       "      <td>229</td>\n",
       "      <td>0</td>\n",
       "      <td>0</td>\n",
       "      <td>0</td>\n",
       "      <td>0</td>\n",
       "      <td>0</td>\n",
       "      <td>0</td>\n",
       "    </tr>\n",
       "  </tbody>\n",
       "</table>\n",
       "<p>136429 rows × 14 columns</p>\n",
       "</div>"
      ],
      "text/plain": [
       "            id Product ID Type  Air temperature [K]  Process temperature [K]  \\\n",
       "0            0     L50096    L                300.6                    309.6   \n",
       "1            1     M20343    M                302.6                    312.1   \n",
       "2            2     L49454    L                299.3                    308.5   \n",
       "3            3     L53355    L                301.0                    310.9   \n",
       "4            4     M24050    M                298.0                    309.0   \n",
       "...        ...        ...  ...                  ...                      ...   \n",
       "136424  136424     M22284    M                300.1                    311.4   \n",
       "136425  136425     H38017    H                297.5                    308.5   \n",
       "136426  136426     L54690    L                300.5                    311.8   \n",
       "136427  136427     L53876    L                301.7                    310.9   \n",
       "136428  136428     L47937    L                296.9                    308.1   \n",
       "\n",
       "        Rotational speed [rpm]  Torque [Nm]  Tool wear [min]  Machine failure  \\\n",
       "0                         1596         36.1              140                0   \n",
       "1                         1759         29.1              200                0   \n",
       "2                         1805         26.5               25                0   \n",
       "3                         1524         44.3              197                0   \n",
       "4                         1641         35.4               34                0   \n",
       "...                        ...          ...              ...              ...   \n",
       "136424                    1530         37.5              210                0   \n",
       "136425                    1447         49.1                2                0   \n",
       "136426                    1524         38.5              214                0   \n",
       "136427                    1447         46.3               42                0   \n",
       "136428                    1557         39.3              229                0   \n",
       "\n",
       "        TWF  HDF  PWF  OSF  RNF  \n",
       "0         0    0    0    0    0  \n",
       "1         0    0    0    0    0  \n",
       "2         0    0    0    0    0  \n",
       "3         0    0    0    0    0  \n",
       "4         0    0    0    0    0  \n",
       "...     ...  ...  ...  ...  ...  \n",
       "136424    0    0    0    0    0  \n",
       "136425    0    0    0    0    0  \n",
       "136426    0    0    0    0    0  \n",
       "136427    0    0    0    0    0  \n",
       "136428    0    0    0    0    0  \n",
       "\n",
       "[136429 rows x 14 columns]"
      ]
     },
     "execution_count": 2,
     "metadata": {},
     "output_type": "execute_result"
    }
   ],
   "source": [
    "train"
   ]
  },
  {
   "cell_type": "code",
   "execution_count": 3,
   "id": "282d277b",
   "metadata": {},
   "outputs": [
    {
     "data": {
      "text/plain": [
       "L    95354\n",
       "M    32152\n",
       "H     8923\n",
       "Name: Type, dtype: int64"
      ]
     },
     "execution_count": 3,
     "metadata": {},
     "output_type": "execute_result"
    }
   ],
   "source": [
    "train[\"Type\"].value_counts()"
   ]
  },
  {
   "cell_type": "code",
   "execution_count": 4,
   "id": "9316ceec",
   "metadata": {},
   "outputs": [
    {
     "data": {
      "text/plain": [
       "id                         0\n",
       "Product ID                 0\n",
       "Type                       0\n",
       "Air temperature [K]        0\n",
       "Process temperature [K]    0\n",
       "Rotational speed [rpm]     0\n",
       "Torque [Nm]                0\n",
       "Tool wear [min]            0\n",
       "Machine failure            0\n",
       "TWF                        0\n",
       "HDF                        0\n",
       "PWF                        0\n",
       "OSF                        0\n",
       "RNF                        0\n",
       "dtype: int64"
      ]
     },
     "execution_count": 4,
     "metadata": {},
     "output_type": "execute_result"
    }
   ],
   "source": [
    "train.isnull().sum()"
   ]
  },
  {
   "cell_type": "code",
   "execution_count": 5,
   "id": "a36f783a",
   "metadata": {},
   "outputs": [
    {
     "data": {
      "text/plain": [
       "id                         0\n",
       "Product ID                 0\n",
       "Type                       0\n",
       "Air temperature [K]        0\n",
       "Process temperature [K]    0\n",
       "Rotational speed [rpm]     0\n",
       "Torque [Nm]                0\n",
       "Tool wear [min]            0\n",
       "TWF                        0\n",
       "HDF                        0\n",
       "PWF                        0\n",
       "OSF                        0\n",
       "RNF                        0\n",
       "dtype: int64"
      ]
     },
     "execution_count": 5,
     "metadata": {},
     "output_type": "execute_result"
    }
   ],
   "source": [
    "test.isnull().sum()"
   ]
  },
  {
   "cell_type": "code",
   "execution_count": 6,
   "id": "414cfac0",
   "metadata": {},
   "outputs": [],
   "source": [
    "train[\"Product ID\"] = train[\"Product ID\"].str[1:]\n",
    "test[\"Product ID\"] = test[\"Product ID\"].str[1:]"
   ]
  },
  {
   "cell_type": "code",
   "execution_count": 7,
   "id": "5954d3ea",
   "metadata": {},
   "outputs": [
    {
     "data": {
      "text/html": [
       "<div>\n",
       "<style scoped>\n",
       "    .dataframe tbody tr th:only-of-type {\n",
       "        vertical-align: middle;\n",
       "    }\n",
       "\n",
       "    .dataframe tbody tr th {\n",
       "        vertical-align: top;\n",
       "    }\n",
       "\n",
       "    .dataframe thead th {\n",
       "        text-align: right;\n",
       "    }\n",
       "</style>\n",
       "<table border=\"1\" class=\"dataframe\">\n",
       "  <thead>\n",
       "    <tr style=\"text-align: right;\">\n",
       "      <th></th>\n",
       "      <th>id</th>\n",
       "      <th>Product ID</th>\n",
       "      <th>Type</th>\n",
       "      <th>Air temperature [K]</th>\n",
       "      <th>Process temperature [K]</th>\n",
       "      <th>Rotational speed [rpm]</th>\n",
       "      <th>Torque [Nm]</th>\n",
       "      <th>Tool wear [min]</th>\n",
       "      <th>Machine failure</th>\n",
       "      <th>TWF</th>\n",
       "      <th>HDF</th>\n",
       "      <th>PWF</th>\n",
       "      <th>OSF</th>\n",
       "      <th>RNF</th>\n",
       "    </tr>\n",
       "  </thead>\n",
       "  <tbody>\n",
       "    <tr>\n",
       "      <th>0</th>\n",
       "      <td>0</td>\n",
       "      <td>50096</td>\n",
       "      <td>L</td>\n",
       "      <td>300.6</td>\n",
       "      <td>309.6</td>\n",
       "      <td>1596</td>\n",
       "      <td>36.1</td>\n",
       "      <td>140</td>\n",
       "      <td>0</td>\n",
       "      <td>0</td>\n",
       "      <td>0</td>\n",
       "      <td>0</td>\n",
       "      <td>0</td>\n",
       "      <td>0</td>\n",
       "    </tr>\n",
       "    <tr>\n",
       "      <th>1</th>\n",
       "      <td>1</td>\n",
       "      <td>20343</td>\n",
       "      <td>M</td>\n",
       "      <td>302.6</td>\n",
       "      <td>312.1</td>\n",
       "      <td>1759</td>\n",
       "      <td>29.1</td>\n",
       "      <td>200</td>\n",
       "      <td>0</td>\n",
       "      <td>0</td>\n",
       "      <td>0</td>\n",
       "      <td>0</td>\n",
       "      <td>0</td>\n",
       "      <td>0</td>\n",
       "    </tr>\n",
       "    <tr>\n",
       "      <th>2</th>\n",
       "      <td>2</td>\n",
       "      <td>49454</td>\n",
       "      <td>L</td>\n",
       "      <td>299.3</td>\n",
       "      <td>308.5</td>\n",
       "      <td>1805</td>\n",
       "      <td>26.5</td>\n",
       "      <td>25</td>\n",
       "      <td>0</td>\n",
       "      <td>0</td>\n",
       "      <td>0</td>\n",
       "      <td>0</td>\n",
       "      <td>0</td>\n",
       "      <td>0</td>\n",
       "    </tr>\n",
       "    <tr>\n",
       "      <th>3</th>\n",
       "      <td>3</td>\n",
       "      <td>53355</td>\n",
       "      <td>L</td>\n",
       "      <td>301.0</td>\n",
       "      <td>310.9</td>\n",
       "      <td>1524</td>\n",
       "      <td>44.3</td>\n",
       "      <td>197</td>\n",
       "      <td>0</td>\n",
       "      <td>0</td>\n",
       "      <td>0</td>\n",
       "      <td>0</td>\n",
       "      <td>0</td>\n",
       "      <td>0</td>\n",
       "    </tr>\n",
       "    <tr>\n",
       "      <th>4</th>\n",
       "      <td>4</td>\n",
       "      <td>24050</td>\n",
       "      <td>M</td>\n",
       "      <td>298.0</td>\n",
       "      <td>309.0</td>\n",
       "      <td>1641</td>\n",
       "      <td>35.4</td>\n",
       "      <td>34</td>\n",
       "      <td>0</td>\n",
       "      <td>0</td>\n",
       "      <td>0</td>\n",
       "      <td>0</td>\n",
       "      <td>0</td>\n",
       "      <td>0</td>\n",
       "    </tr>\n",
       "  </tbody>\n",
       "</table>\n",
       "</div>"
      ],
      "text/plain": [
       "   id Product ID Type  Air temperature [K]  Process temperature [K]  \\\n",
       "0   0      50096    L                300.6                    309.6   \n",
       "1   1      20343    M                302.6                    312.1   \n",
       "2   2      49454    L                299.3                    308.5   \n",
       "3   3      53355    L                301.0                    310.9   \n",
       "4   4      24050    M                298.0                    309.0   \n",
       "\n",
       "   Rotational speed [rpm]  Torque [Nm]  Tool wear [min]  Machine failure  TWF  \\\n",
       "0                    1596         36.1              140                0    0   \n",
       "1                    1759         29.1              200                0    0   \n",
       "2                    1805         26.5               25                0    0   \n",
       "3                    1524         44.3              197                0    0   \n",
       "4                    1641         35.4               34                0    0   \n",
       "\n",
       "   HDF  PWF  OSF  RNF  \n",
       "0    0    0    0    0  \n",
       "1    0    0    0    0  \n",
       "2    0    0    0    0  \n",
       "3    0    0    0    0  \n",
       "4    0    0    0    0  "
      ]
     },
     "execution_count": 7,
     "metadata": {},
     "output_type": "execute_result"
    }
   ],
   "source": [
    "train.head()"
   ]
  },
  {
   "cell_type": "code",
   "execution_count": 8,
   "id": "531b6f42",
   "metadata": {},
   "outputs": [],
   "source": [
    "train[\"Product ID\"] = train[\"Product ID\"].astype(int)\n",
    "test[\"Product ID\"] = test[\"Product ID\"].astype(int)"
   ]
  },
  {
   "cell_type": "code",
   "execution_count": 9,
   "id": "d234955e",
   "metadata": {},
   "outputs": [
    {
     "name": "stdout",
     "output_type": "stream",
     "text": [
      "<class 'pandas.core.frame.DataFrame'>\n",
      "RangeIndex: 136429 entries, 0 to 136428\n",
      "Data columns (total 14 columns):\n",
      " #   Column                   Non-Null Count   Dtype  \n",
      "---  ------                   --------------   -----  \n",
      " 0   id                       136429 non-null  int64  \n",
      " 1   Product ID               136429 non-null  int32  \n",
      " 2   Type                     136429 non-null  object \n",
      " 3   Air temperature [K]      136429 non-null  float64\n",
      " 4   Process temperature [K]  136429 non-null  float64\n",
      " 5   Rotational speed [rpm]   136429 non-null  int64  \n",
      " 6   Torque [Nm]              136429 non-null  float64\n",
      " 7   Tool wear [min]          136429 non-null  int64  \n",
      " 8   Machine failure          136429 non-null  int64  \n",
      " 9   TWF                      136429 non-null  int64  \n",
      " 10  HDF                      136429 non-null  int64  \n",
      " 11  PWF                      136429 non-null  int64  \n",
      " 12  OSF                      136429 non-null  int64  \n",
      " 13  RNF                      136429 non-null  int64  \n",
      "dtypes: float64(3), int32(1), int64(9), object(1)\n",
      "memory usage: 14.1+ MB\n"
     ]
    }
   ],
   "source": [
    "train.info()"
   ]
  },
  {
   "cell_type": "code",
   "execution_count": 10,
   "id": "59b3c48d",
   "metadata": {},
   "outputs": [
    {
     "name": "stderr",
     "output_type": "stream",
     "text": [
      "C:\\Users\\Divyansh Garg\\anaconda3\\lib\\site-packages\\seaborn\\_decorators.py:36: FutureWarning: Pass the following variable as a keyword arg: x. From version 0.12, the only valid positional argument will be `data`, and passing other arguments without an explicit keyword will result in an error or misinterpretation.\n",
      "  warnings.warn(\n"
     ]
    },
    {
     "data": {
      "text/plain": [
       "<AxesSubplot:xlabel='Air temperature [K]'>"
      ]
     },
     "execution_count": 10,
     "metadata": {},
     "output_type": "execute_result"
    },
    {
     "data": {
      "image/png": "[encoded data removed]",
      "text/plain": [
       "<Figure size 432x288 with 1 Axes>"
      ]
     },
     "metadata": {
      "needs_background": "light"
     },
     "output_type": "display_data"
    }
   ],
   "source": [
    "import seaborn as sns\n",
    "sns.boxplot(train[\"Air temperature [K]\"])"
   ]
  },
  {
   "cell_type": "code",
   "execution_count": 11,
   "id": "dd956bd3",
   "metadata": {},
   "outputs": [
    {
     "name": "stderr",
     "output_type": "stream",
     "text": [
      "C:\\Users\\Divyansh Garg\\anaconda3\\lib\\site-packages\\seaborn\\_decorators.py:36: FutureWarning: Pass the following variable as a keyword arg: x. From version 0.12, the only valid positional argument will be `data`, and passing other arguments without an explicit keyword will result in an error or misinterpretation.\n",
      "  warnings.warn(\n"
     ]
    },
    {
     "data": {
      "text/plain": [
       "<AxesSubplot:xlabel='Process temperature [K]'>"
      ]
     },
     "execution_count": 11,
     "metadata": {},
     "output_type": "execute_result"
    },
    {
     "data": {
      "image/png": "[encoded data removed]",
      "text/plain": [
       "<Figure size 432x288 with 1 Axes>"
      ]
     },
     "metadata": {
      "needs_background": "light"
     },
     "output_type": "display_data"
    }
   ],
   "source": [
    "sns.boxplot(train[\"Process temperature [K]\"])"
   ]
  },
  {
   "cell_type": "code",
   "execution_count": 12,
   "id": "12741ed5",
   "metadata": {},
   "outputs": [
    {
     "name": "stderr",
     "output_type": "stream",
     "text": [
      "C:\\Users\\Divyansh Garg\\anaconda3\\lib\\site-packages\\seaborn\\_decorators.py:36: FutureWarning: Pass the following variable as a keyword arg: x. From version 0.12, the only valid positional argument will be `data`, and passing other arguments without an explicit keyword will result in an error or misinterpretation.\n",
      "  warnings.warn(\n"
     ]
    },
    {
     "data": {
      "text/plain": [
       "<AxesSubplot:xlabel='Rotational speed [rpm]'>"
      ]
     },
     "execution_count": 12,
     "metadata": {},
     "output_type": "execute_result"
    },
    {
     "data": {
      "image/png": "[encoded data removed]",
      "text/plain": [
       "<Figure size 432x288 with 1 Axes>"
      ]
     },
     "metadata": {
      "needs_background": "light"
     },
     "output_type": "display_data"
    }
   ],
   "source": [
    "sns.boxplot(train[\"Rotational speed [rpm]\"])"
   ]
  },
  {
   "cell_type": "code",
   "execution_count": 13,
   "id": "052738a4",
   "metadata": {},
   "outputs": [
    {
     "name": "stderr",
     "output_type": "stream",
     "text": [
      "C:\\Users\\Divyansh Garg\\anaconda3\\lib\\site-packages\\seaborn\\_decorators.py:36: FutureWarning: Pass the following variable as a keyword arg: x. From version 0.12, the only valid positional argument will be `data`, and passing other arguments without an explicit keyword will result in an error or misinterpretation.\n",
      "  warnings.warn(\n"
     ]
    },
    {
     "data": {
      "text/plain": [
       "<AxesSubplot:xlabel='Torque [Nm]'>"
      ]
     },
     "execution_count": 13,
     "metadata": {},
     "output_type": "execute_result"
    },
    {
     "data": {
      "image/png": "[encoded data removed]",
      "text/plain": [
       "<Figure size 432x288 with 1 Axes>"
      ]
     },
     "metadata": {
      "needs_background": "light"
     },
     "output_type": "display_data"
    }
   ],
   "source": [
    "sns.boxplot(train[\"Torque [Nm]\"])"
   ]
  },
  {
   "cell_type": "code",
   "execution_count": 14,
   "id": "7b28412d",
   "metadata": {},
   "outputs": [],
   "source": [
    "train = pd.get_dummies(train, drop_first=True)\n",
    "test = pd.get_dummies(test, drop_first=True)"
   ]
  },
  {
   "cell_type": "code",
   "execution_count": 15,
   "id": "29f726a8",
   "metadata": {},
   "outputs": [
    {
     "name": "stdout",
     "output_type": "stream",
     "text": [
      "<class 'pandas.core.frame.DataFrame'>\n",
      "RangeIndex: 136429 entries, 0 to 136428\n",
      "Data columns (total 15 columns):\n",
      " #   Column                   Non-Null Count   Dtype  \n",
      "---  ------                   --------------   -----  \n",
      " 0   id                       136429 non-null  int64  \n",
      " 1   Product ID               136429 non-null  int32  \n",
      " 2   Air temperature [K]      136429 non-null  float64\n",
      " 3   Process temperature [K]  136429 non-null  float64\n",
      " 4   Rotational speed [rpm]   136429 non-null  int64  \n",
      " 5   Torque [Nm]              136429 non-null  float64\n",
      " 6   Tool wear [min]          136429 non-null  int64  \n",
      " 7   Machine failure          136429 non-null  int64  \n",
      " 8   TWF                      136429 non-null  int64  \n",
      " 9   HDF                      136429 non-null  int64  \n",
      " 10  PWF                      136429 non-null  int64  \n",
      " 11  OSF                      136429 non-null  int64  \n",
      " 12  RNF                      136429 non-null  int64  \n",
      " 13  Type_L                   136429 non-null  uint8  \n",
      " 14  Type_M                   136429 non-null  uint8  \n",
      "dtypes: float64(3), int32(1), int64(9), uint8(2)\n",
      "memory usage: 13.3 MB\n"
     ]
    }
   ],
   "source": [
    "train.info()"
   ]
  },
  {
   "cell_type": "code",
   "execution_count": 16,
   "id": "6f3373aa",
   "metadata": {},
   "outputs": [
    {
     "data": {
      "text/plain": [
       "0    136217\n",
       "1       212\n",
       "Name: TWF, dtype: int64"
      ]
     },
     "execution_count": 16,
     "metadata": {},
     "output_type": "execute_result"
    }
   ],
   "source": [
    "train[\"TWF\"].value_counts()"
   ]
  },
  {
   "cell_type": "code",
   "execution_count": 17,
   "id": "8cbc5ad8",
   "metadata": {},
   "outputs": [
    {
     "name": "stderr",
     "output_type": "stream",
     "text": [
      "C:\\Users\\Divyansh Garg\\anaconda3\\lib\\site-packages\\seaborn\\_decorators.py:36: FutureWarning: Pass the following variable as a keyword arg: x. From version 0.12, the only valid positional argument will be `data`, and passing other arguments without an explicit keyword will result in an error or misinterpretation.\n",
      "  warnings.warn(\n"
     ]
    },
    {
     "data": {
      "text/plain": [
       "<AxesSubplot:xlabel='Tool wear [min]'>"
      ]
     },
     "execution_count": 17,
     "metadata": {},
     "output_type": "execute_result"
    },
    {
     "data": {
      "image/png": "[encoded data removed]",
      "text/plain": [
       "<Figure size 432x288 with 1 Axes>"
      ]
     },
     "metadata": {
      "needs_background": "light"
     },
     "output_type": "display_data"
    }
   ],
   "source": [
    "sns.boxplot(train[\"Tool wear [min]\"])"
   ]
  },
  {
   "cell_type": "markdown",
   "id": "185d92a0",
   "metadata": {},
   "source": [
    "## OUTLIERS Torque Rotational Speed"
   ]
  },
  {
   "cell_type": "code",
   "execution_count": 18,
   "id": "ca3c9084",
   "metadata": {},
   "outputs": [
    {
     "data": {
      "text/plain": [
       "-0.028963391079620402"
      ]
     },
     "execution_count": 18,
     "metadata": {},
     "output_type": "execute_result"
    },
    {
     "data": {
      "image/png": "[encoded data removed]",
      "text/plain": [
       "<Figure size 360x360 with 1 Axes>"
      ]
     },
     "metadata": {
      "needs_background": "light"
     },
     "output_type": "display_data"
    }
   ],
   "source": [
    "sns.displot(train[\"Torque [Nm]\"])\n",
    "train[\"Torque [Nm]\"].skew()"
   ]
  },
  {
   "cell_type": "code",
   "execution_count": 19,
   "id": "f1745760",
   "metadata": {},
   "outputs": [
    {
     "data": {
      "text/plain": [
       "1.8882503109110036"
      ]
     },
     "execution_count": 19,
     "metadata": {},
     "output_type": "execute_result"
    },
    {
     "data": {
      "image/png": "[encoded data removed]",
      "text/plain": [
       "<Figure size 360x360 with 1 Axes>"
      ]
     },
     "metadata": {
      "needs_background": "light"
     },
     "output_type": "display_data"
    }
   ],
   "source": [
    "sns.displot(train[\"Rotational speed [rpm]\"])\n",
    "train[\"Rotational speed [rpm]\"].skew()"
   ]
  },
  {
   "cell_type": "code",
   "execution_count": 20,
   "id": "6df043f3",
   "metadata": {},
   "outputs": [
    {
     "name": "stdout",
     "output_type": "stream",
     "text": [
      "<class 'pandas.core.frame.DataFrame'>\n",
      "RangeIndex: 136429 entries, 0 to 136428\n",
      "Data columns (total 15 columns):\n",
      " #   Column                   Non-Null Count   Dtype  \n",
      "---  ------                   --------------   -----  \n",
      " 0   id                       136429 non-null  int64  \n",
      " 1   Product ID               136429 non-null  int32  \n",
      " 2   Air temperature [K]      136429 non-null  float64\n",
      " 3   Process temperature [K]  136429 non-null  float64\n",
      " 4   Rotational speed [rpm]   136429 non-null  int64  \n",
      " 5   Torque [Nm]              136429 non-null  float64\n",
      " 6   Tool wear [min]          136429 non-null  int64  \n",
      " 7   Machine failure          136429 non-null  int64  \n",
      " 8   TWF                      136429 non-null  int64  \n",
      " 9   HDF                      136429 non-null  int64  \n",
      " 10  PWF                      136429 non-null  int64  \n",
      " 11  OSF                      136429 non-null  int64  \n",
      " 12  RNF                      136429 non-null  int64  \n",
      " 13  Type_L                   136429 non-null  uint8  \n",
      " 14  Type_M                   136429 non-null  uint8  \n",
      "dtypes: float64(3), int32(1), int64(9), uint8(2)\n",
      "memory usage: 13.3 MB\n"
     ]
    }
   ],
   "source": [
    "train.info()"
   ]
  },
  {
   "cell_type": "code",
   "execution_count": 21,
   "id": "ff4b184e",
   "metadata": {},
   "outputs": [
    {
     "data": {
      "text/plain": [
       "<AxesSubplot:xlabel='Torque [Nm]', ylabel='Count'>"
      ]
     },
     "execution_count": 21,
     "metadata": {},
     "output_type": "execute_result"
    },
    {
     "data": {
      "image/png": "[encoded data removed]",
      "text/plain": [
       "<Figure size 1080x720 with 4 Axes>"
      ]
     },
     "metadata": {
      "needs_background": "light"
     },
     "output_type": "display_data"
    }
   ],
   "source": [
    "import matplotlib.pyplot as plt\n",
    "_, ax = plt.subplots(2,2, figsize=(15,10))\n",
    "sns.histplot(train, x=\"Air temperature [K]\", hue='Machine failure',kde=True, ax=ax[0,0])\n",
    "sns.histplot(train, x=\"Process temperature [K]\", hue='Machine failure',kde=True, ax=ax[0,1])\n",
    "sns.histplot(train, x=\"Rotational speed [rpm]\", hue='Machine failure',kde=True, ax=ax[1,0])\n",
    "sns.histplot(train, x=\"Torque [Nm]\", hue='Machine failure',kde=True, ax=ax[1,1])"
   ]
  },
  {
   "cell_type": "code",
   "execution_count": 22,
   "id": "0d800485",
   "metadata": {},
   "outputs": [
    {
     "data": {
      "text/plain": [
       "<AxesSubplot:>"
      ]
     },
     "execution_count": 22,
     "metadata": {},
     "output_type": "execute_result"
    },
    {
     "data": {
      "image/png": "[encoded data removed]",
      "text/plain": [
       "<Figure size 720x720 with 2 Axes>"
      ]
     },
     "metadata": {
      "needs_background": "light"
     },
     "output_type": "display_data"
    }
   ],
   "source": [
    "import matplotlib.pyplot as plt\n",
    "\n",
    "fig, ax = plt.subplots(figsize=(10,10))         # Sample figsize in inches\n",
    "sns.heatmap(train.corr(), cmap=\"YlGnBu\", ax=ax)"
   ]
  },
  {
   "cell_type": "code",
   "execution_count": 23,
   "id": "b5547621",
   "metadata": {},
   "outputs": [
    {
     "name": "stderr",
     "output_type": "stream",
     "text": [
      "C:\\Users\\Divyansh Garg\\anaconda3\\lib\\site-packages\\seaborn\\_decorators.py:36: FutureWarning: Pass the following variable as a keyword arg: x. From version 0.12, the only valid positional argument will be `data`, and passing other arguments without an explicit keyword will result in an error or misinterpretation.\n",
      "  warnings.warn(\n"
     ]
    },
    {
     "data": {
      "text/plain": [
       "<AxesSubplot:xlabel='Torque [Nm]'>"
      ]
     },
     "execution_count": 23,
     "metadata": {},
     "output_type": "execute_result"
    },
    {
     "data": {
      "image/png": "[encoded data removed]",
      "text/plain": [
       "<Figure size 432x288 with 1 Axes>"
      ]
     },
     "metadata": {
      "needs_background": "light"
     },
     "output_type": "display_data"
    }
   ],
   "source": [
    "# Finding the IQR\n",
    "percentile25 = train['Torque [Nm]'].quantile(0.25)\n",
    "percentile75 = train['Torque [Nm]'].quantile(0.75)\n",
    "iqr = percentile75 - percentile25\n",
    "upper_limit = percentile75 + 1.5 * iqr\n",
    "lower_limit = percentile25 - 1.5 * iqr\n",
    "new_df_cap = train.copy()\n",
    "import numpy as np\n",
    "new_df_cap['Torque [Nm]'] = np.where(\n",
    "    new_df_cap['Torque [Nm]'] > upper_limit,\n",
    "    upper_limit,\n",
    "    np.where(\n",
    "        new_df_cap['Torque [Nm]'] < lower_limit,\n",
    "        lower_limit,\n",
    "        new_df_cap['Torque [Nm]']\n",
    "    )\n",
    ")\n",
    "sns.boxplot(new_df_cap[\"Torque [Nm]\"])"
   ]
  },
  {
   "cell_type": "code",
   "execution_count": 24,
   "id": "e3ce66a7",
   "metadata": {},
   "outputs": [
    {
     "name": "stderr",
     "output_type": "stream",
     "text": [
      "C:\\Users\\Divyansh Garg\\anaconda3\\lib\\site-packages\\seaborn\\_decorators.py:36: FutureWarning: Pass the following variable as a keyword arg: x. From version 0.12, the only valid positional argument will be `data`, and passing other arguments without an explicit keyword will result in an error or misinterpretation.\n",
      "  warnings.warn(\n"
     ]
    },
    {
     "data": {
      "text/plain": [
       "<AxesSubplot:xlabel='Rotational speed [rpm]'>"
      ]
     },
     "execution_count": 24,
     "metadata": {},
     "output_type": "execute_result"
    },
    {
     "data": {
      "image/png": "[encoded data removed]",
      "text/plain": [
       "<Figure size 432x288 with 1 Axes>"
      ]
     },
     "metadata": {
      "needs_background": "light"
     },
     "output_type": "display_data"
    }
   ],
   "source": [
    "percentile25 = new_df_cap['Rotational speed [rpm]'].quantile(0.25)\n",
    "percentile75 = new_df_cap['Rotational speed [rpm]'].quantile(0.75)\n",
    "iqr = percentile75 - percentile25\n",
    "upper_limit = percentile75 + 1.5 * iqr\n",
    "lower_limit = percentile25 - 1.5 * iqr\n",
    "new_df_cap = new_df_cap.copy()\n",
    "import numpy as np\n",
    "new_df_cap['Rotational speed [rpm]'] = np.where(\n",
    "    new_df_cap['Rotational speed [rpm]'] > upper_limit,\n",
    "    upper_limit,\n",
    "    np.where(\n",
    "        new_df_cap['Rotational speed [rpm]'] < lower_limit,\n",
    "        lower_limit,\n",
    "        new_df_cap['Rotational speed [rpm]']\n",
    "    )\n",
    ")\n",
    "sns.boxplot(new_df_cap[\"Rotational speed [rpm]\"])"
   ]
  },
  {
   "cell_type": "code",
   "execution_count": 25,
   "id": "1d4669c6",
   "metadata": {},
   "outputs": [
    {
     "name": "stderr",
     "output_type": "stream",
     "text": [
      "C:\\Users\\Divyansh Garg\\anaconda3\\lib\\site-packages\\seaborn\\_decorators.py:36: FutureWarning: Pass the following variable as a keyword arg: x. From version 0.12, the only valid positional argument will be `data`, and passing other arguments without an explicit keyword will result in an error or misinterpretation.\n",
      "  warnings.warn(\n"
     ]
    },
    {
     "data": {
      "text/plain": [
       "<AxesSubplot:xlabel='Tool wear [min]'>"
      ]
     },
     "execution_count": 25,
     "metadata": {},
     "output_type": "execute_result"
    },
    {
     "data": {
      "image/png": "[encoded data removed]",
      "text/plain": [
       "<Figure size 432x288 with 1 Axes>"
      ]
     },
     "metadata": {
      "needs_background": "light"
     },
     "output_type": "display_data"
    }
   ],
   "source": [
    "percentile25 = train['Tool wear [min]'].quantile(0.25)\n",
    "percentile75 = train['Tool wear [min]'].quantile(0.75)\n",
    "iqr = percentile75 - percentile25\n",
    "new_df_cap = new_df_cap.copy()\n",
    "import numpy as np\n",
    "new_df_cap['Tool wear [min]'] = np.where(\n",
    "    new_df_cap['Tool wear [min]'] > upper_limit,\n",
    "    upper_limit,\n",
    "    np.where(\n",
    "        new_df_cap['Tool wear [min]'] < lower_limit,\n",
    "        lower_limit,\n",
    "        new_df_cap['Tool wear [min]']\n",
    "    )\n",
    ")\n",
    "sns.boxplot(new_df_cap[\"Tool wear [min]\"])"
   ]
  },
  {
   "cell_type": "code",
   "execution_count": 26,
   "id": "c0751ed0",
   "metadata": {},
   "outputs": [
    {
     "name": "stderr",
     "output_type": "stream",
     "text": [
      "C:\\Users\\Divyansh Garg\\anaconda3\\lib\\site-packages\\seaborn\\_decorators.py:36: FutureWarning: Pass the following variable as a keyword arg: x. From version 0.12, the only valid positional argument will be `data`, and passing other arguments without an explicit keyword will result in an error or misinterpretation.\n",
      "  warnings.warn(\n"
     ]
    },
    {
     "data": {
      "text/plain": [
       "<AxesSubplot:xlabel='Process temperature [K]'>"
      ]
     },
     "execution_count": 26,
     "metadata": {},
     "output_type": "execute_result"
    },
    {
     "data": {
      "image/png": "[encoded data removed]",
      "text/plain": [
       "<Figure size 432x288 with 1 Axes>"
      ]
     },
     "metadata": {
      "needs_background": "light"
     },
     "output_type": "display_data"
    }
   ],
   "source": [
    "percentile25 = train['Process temperature [K]'].quantile(0.25)\n",
    "percentile75 = train['Process temperature [K]'].quantile(0.75)\n",
    "iqr = percentile75 - percentile25\n",
    "new_df_cap = new_df_cap.copy()\n",
    "import numpy as np\n",
    "new_df_cap['Process temperature [K]'] = np.where(\n",
    "    new_df_cap['Process temperature [K]'] > upper_limit,\n",
    "    upper_limit,\n",
    "    np.where(\n",
    "        new_df_cap['Process temperature [K]'] < lower_limit,\n",
    "        lower_limit,\n",
    "        new_df_cap['Process temperature [K]']\n",
    "    )\n",
    ")\n",
    "sns.boxplot(new_df_cap[\"Process temperature [K]\"])"
   ]
  },
  {
   "cell_type": "code",
   "execution_count": 27,
   "id": "002478b3",
   "metadata": {},
   "outputs": [
    {
     "name": "stderr",
     "output_type": "stream",
     "text": [
      "C:\\Users\\Divyansh Garg\\anaconda3\\lib\\site-packages\\seaborn\\_decorators.py:36: FutureWarning: Pass the following variable as a keyword arg: x. From version 0.12, the only valid positional argument will be `data`, and passing other arguments without an explicit keyword will result in an error or misinterpretation.\n",
      "  warnings.warn(\n"
     ]
    },
    {
     "data": {
      "text/plain": [
       "<AxesSubplot:xlabel='Air temperature [K]'>"
      ]
     },
     "execution_count": 27,
     "metadata": {},
     "output_type": "execute_result"
    },
    {
     "data": {
      "image/png": "[encoded data removed]",
      "text/plain": [
       "<Figure size 432x288 with 1 Axes>"
      ]
     },
     "metadata": {
      "needs_background": "light"
     },
     "output_type": "display_data"
    }
   ],
   "source": [
    "percentile25 = train['Air temperature [K]'].quantile(0.25)\n",
    "percentile75 = train['Air temperature [K]'].quantile(0.75)\n",
    "iqr = percentile75 - percentile25\n",
    "new_df_cap = new_df_cap.copy()\n",
    "import numpy as np\n",
    "new_df_cap['Air temperature [K]'] = np.where(\n",
    "    new_df_cap['Air temperature [K]'] > upper_limit,\n",
    "    upper_limit,\n",
    "    np.where(\n",
    "        new_df_cap['Air temperature [K]'] < lower_limit,\n",
    "        lower_limit,\n",
    "        new_df_cap['Air temperature [K]']\n",
    "    )\n",
    ")\n",
    "sns.boxplot(new_df_cap[\"Air temperature [K]\"])"
   ]
  },
  {
   "cell_type": "code",
   "execution_count": 28,
   "id": "8377a6e5",
   "metadata": {},
   "outputs": [],
   "source": [
    "train = new_df_cap.copy()"
   ]
  },
  {
   "cell_type": "code",
   "execution_count": 29,
   "id": "cd2fb113",
   "metadata": {},
   "outputs": [
    {
     "data": {
      "text/html": [
       "<div>\n",
       "<style scoped>\n",
       "    .dataframe tbody tr th:only-of-type {\n",
       "        vertical-align: middle;\n",
       "    }\n",
       "\n",
       "    .dataframe tbody tr th {\n",
       "        vertical-align: top;\n",
       "    }\n",
       "\n",
       "    .dataframe thead th {\n",
       "        text-align: right;\n",
       "    }\n",
       "</style>\n",
       "<table border=\"1\" class=\"dataframe\">\n",
       "  <thead>\n",
       "    <tr style=\"text-align: right;\">\n",
       "      <th></th>\n",
       "      <th>id</th>\n",
       "      <th>Product ID</th>\n",
       "      <th>Air temperature [K]</th>\n",
       "      <th>Process temperature [K]</th>\n",
       "      <th>Rotational speed [rpm]</th>\n",
       "      <th>Torque [Nm]</th>\n",
       "      <th>Tool wear [min]</th>\n",
       "      <th>Machine failure</th>\n",
       "      <th>TWF</th>\n",
       "      <th>HDF</th>\n",
       "      <th>PWF</th>\n",
       "      <th>OSF</th>\n",
       "      <th>RNF</th>\n",
       "      <th>Type_L</th>\n",
       "      <th>Type_M</th>\n",
       "    </tr>\n",
       "  </thead>\n",
       "  <tbody>\n",
       "    <tr>\n",
       "      <th>0</th>\n",
       "      <td>0</td>\n",
       "      <td>50096</td>\n",
       "      <td>1210.0</td>\n",
       "      <td>1210.0</td>\n",
       "      <td>1596.0</td>\n",
       "      <td>36.1</td>\n",
       "      <td>1210.0</td>\n",
       "      <td>0</td>\n",
       "      <td>0</td>\n",
       "      <td>0</td>\n",
       "      <td>0</td>\n",
       "      <td>0</td>\n",
       "      <td>0</td>\n",
       "      <td>1</td>\n",
       "      <td>0</td>\n",
       "    </tr>\n",
       "    <tr>\n",
       "      <th>1</th>\n",
       "      <td>1</td>\n",
       "      <td>20343</td>\n",
       "      <td>1210.0</td>\n",
       "      <td>1210.0</td>\n",
       "      <td>1759.0</td>\n",
       "      <td>29.1</td>\n",
       "      <td>1210.0</td>\n",
       "      <td>0</td>\n",
       "      <td>0</td>\n",
       "      <td>0</td>\n",
       "      <td>0</td>\n",
       "      <td>0</td>\n",
       "      <td>0</td>\n",
       "      <td>0</td>\n",
       "      <td>1</td>\n",
       "    </tr>\n",
       "    <tr>\n",
       "      <th>2</th>\n",
       "      <td>2</td>\n",
       "      <td>49454</td>\n",
       "      <td>1210.0</td>\n",
       "      <td>1210.0</td>\n",
       "      <td>1802.0</td>\n",
       "      <td>26.5</td>\n",
       "      <td>1210.0</td>\n",
       "      <td>0</td>\n",
       "      <td>0</td>\n",
       "      <td>0</td>\n",
       "      <td>0</td>\n",
       "      <td>0</td>\n",
       "      <td>0</td>\n",
       "      <td>1</td>\n",
       "      <td>0</td>\n",
       "    </tr>\n",
       "    <tr>\n",
       "      <th>3</th>\n",
       "      <td>3</td>\n",
       "      <td>53355</td>\n",
       "      <td>1210.0</td>\n",
       "      <td>1210.0</td>\n",
       "      <td>1524.0</td>\n",
       "      <td>44.3</td>\n",
       "      <td>1210.0</td>\n",
       "      <td>0</td>\n",
       "      <td>0</td>\n",
       "      <td>0</td>\n",
       "      <td>0</td>\n",
       "      <td>0</td>\n",
       "      <td>0</td>\n",
       "      <td>1</td>\n",
       "      <td>0</td>\n",
       "    </tr>\n",
       "    <tr>\n",
       "      <th>4</th>\n",
       "      <td>4</td>\n",
       "      <td>24050</td>\n",
       "      <td>1210.0</td>\n",
       "      <td>1210.0</td>\n",
       "      <td>1641.0</td>\n",
       "      <td>35.4</td>\n",
       "      <td>1210.0</td>\n",
       "      <td>0</td>\n",
       "      <td>0</td>\n",
       "      <td>0</td>\n",
       "      <td>0</td>\n",
       "      <td>0</td>\n",
       "      <td>0</td>\n",
       "      <td>0</td>\n",
       "      <td>1</td>\n",
       "    </tr>\n",
       "    <tr>\n",
       "      <th>...</th>\n",
       "      <td>...</td>\n",
       "      <td>...</td>\n",
       "      <td>...</td>\n",
       "      <td>...</td>\n",
       "      <td>...</td>\n",
       "      <td>...</td>\n",
       "      <td>...</td>\n",
       "      <td>...</td>\n",
       "      <td>...</td>\n",
       "      <td>...</td>\n",
       "      <td>...</td>\n",
       "      <td>...</td>\n",
       "      <td>...</td>\n",
       "      <td>...</td>\n",
       "      <td>...</td>\n",
       "    </tr>\n",
       "    <tr>\n",
       "      <th>136424</th>\n",
       "      <td>136424</td>\n",
       "      <td>22284</td>\n",
       "      <td>1210.0</td>\n",
       "      <td>1210.0</td>\n",
       "      <td>1530.0</td>\n",
       "      <td>37.5</td>\n",
       "      <td>1210.0</td>\n",
       "      <td>0</td>\n",
       "      <td>0</td>\n",
       "      <td>0</td>\n",
       "      <td>0</td>\n",
       "      <td>0</td>\n",
       "      <td>0</td>\n",
       "      <td>0</td>\n",
       "      <td>1</td>\n",
       "    </tr>\n",
       "    <tr>\n",
       "      <th>136425</th>\n",
       "      <td>136425</td>\n",
       "      <td>38017</td>\n",
       "      <td>1210.0</td>\n",
       "      <td>1210.0</td>\n",
       "      <td>1447.0</td>\n",
       "      <td>49.1</td>\n",
       "      <td>1210.0</td>\n",
       "      <td>0</td>\n",
       "      <td>0</td>\n",
       "      <td>0</td>\n",
       "      <td>0</td>\n",
       "      <td>0</td>\n",
       "      <td>0</td>\n",
       "      <td>0</td>\n",
       "      <td>0</td>\n",
       "    </tr>\n",
       "    <tr>\n",
       "      <th>136426</th>\n",
       "      <td>136426</td>\n",
       "      <td>54690</td>\n",
       "      <td>1210.0</td>\n",
       "      <td>1210.0</td>\n",
       "      <td>1524.0</td>\n",
       "      <td>38.5</td>\n",
       "      <td>1210.0</td>\n",
       "      <td>0</td>\n",
       "      <td>0</td>\n",
       "      <td>0</td>\n",
       "      <td>0</td>\n",
       "      <td>0</td>\n",
       "      <td>0</td>\n",
       "      <td>1</td>\n",
       "      <td>0</td>\n",
       "    </tr>\n",
       "    <tr>\n",
       "      <th>136427</th>\n",
       "      <td>136427</td>\n",
       "      <td>53876</td>\n",
       "      <td>1210.0</td>\n",
       "      <td>1210.0</td>\n",
       "      <td>1447.0</td>\n",
       "      <td>46.3</td>\n",
       "      <td>1210.0</td>\n",
       "      <td>0</td>\n",
       "      <td>0</td>\n",
       "      <td>0</td>\n",
       "      <td>0</td>\n",
       "      <td>0</td>\n",
       "      <td>0</td>\n",
       "      <td>1</td>\n",
       "      <td>0</td>\n",
       "    </tr>\n",
       "    <tr>\n",
       "      <th>136428</th>\n",
       "      <td>136428</td>\n",
       "      <td>47937</td>\n",
       "      <td>1210.0</td>\n",
       "      <td>1210.0</td>\n",
       "      <td>1557.0</td>\n",
       "      <td>39.3</td>\n",
       "      <td>1210.0</td>\n",
       "      <td>0</td>\n",
       "      <td>0</td>\n",
       "      <td>0</td>\n",
       "      <td>0</td>\n",
       "      <td>0</td>\n",
       "      <td>0</td>\n",
       "      <td>1</td>\n",
       "      <td>0</td>\n",
       "    </tr>\n",
       "  </tbody>\n",
       "</table>\n",
       "<p>136429 rows × 15 columns</p>\n",
       "</div>"
      ],
      "text/plain": [
       "            id  Product ID  Air temperature [K]  Process temperature [K]  \\\n",
       "0            0       50096               1210.0                   1210.0   \n",
       "1            1       20343               1210.0                   1210.0   \n",
       "2            2       49454               1210.0                   1210.0   \n",
       "3            3       53355               1210.0                   1210.0   \n",
       "4            4       24050               1210.0                   1210.0   \n",
       "...        ...         ...                  ...                      ...   \n",
       "136424  136424       22284               1210.0                   1210.0   \n",
       "136425  136425       38017               1210.0                   1210.0   \n",
       "136426  136426       54690               1210.0                   1210.0   \n",
       "136427  136427       53876               1210.0                   1210.0   \n",
       "136428  136428       47937               1210.0                   1210.0   \n",
       "\n",
       "        Rotational speed [rpm]  Torque [Nm]  Tool wear [min]  Machine failure  \\\n",
       "0                       1596.0         36.1           1210.0                0   \n",
       "1                       1759.0         29.1           1210.0                0   \n",
       "2                       1802.0         26.5           1210.0                0   \n",
       "3                       1524.0         44.3           1210.0                0   \n",
       "4                       1641.0         35.4           1210.0                0   \n",
       "...                        ...          ...              ...              ...   \n",
       "136424                  1530.0         37.5           1210.0                0   \n",
       "136425                  1447.0         49.1           1210.0                0   \n",
       "136426                  1524.0         38.5           1210.0                0   \n",
       "136427                  1447.0         46.3           1210.0                0   \n",
       "136428                  1557.0         39.3           1210.0                0   \n",
       "\n",
       "        TWF  HDF  PWF  OSF  RNF  Type_L  Type_M  \n",
       "0         0    0    0    0    0       1       0  \n",
       "1         0    0    0    0    0       0       1  \n",
       "2         0    0    0    0    0       1       0  \n",
       "3         0    0    0    0    0       1       0  \n",
       "4         0    0    0    0    0       0       1  \n",
       "...     ...  ...  ...  ...  ...     ...     ...  \n",
       "136424    0    0    0    0    0       0       1  \n",
       "136425    0    0    0    0    0       0       0  \n",
       "136426    0    0    0    0    0       1       0  \n",
       "136427    0    0    0    0    0       1       0  \n",
       "136428    0    0    0    0    0       1       0  \n",
       "\n",
       "[136429 rows x 15 columns]"
      ]
     },
     "execution_count": 29,
     "metadata": {},
     "output_type": "execute_result"
    }
   ],
   "source": [
    "train"
   ]
  },
  {
   "cell_type": "code",
   "execution_count": 30,
   "id": "92d6b76c",
   "metadata": {},
   "outputs": [
    {
     "data": {
      "text/html": [
       "<div>\n",
       "<style scoped>\n",
       "    .dataframe tbody tr th:only-of-type {\n",
       "        vertical-align: middle;\n",
       "    }\n",
       "\n",
       "    .dataframe tbody tr th {\n",
       "        vertical-align: top;\n",
       "    }\n",
       "\n",
       "    .dataframe thead th {\n",
       "        text-align: right;\n",
       "    }\n",
       "</style>\n",
       "<table border=\"1\" class=\"dataframe\">\n",
       "  <thead>\n",
       "    <tr style=\"text-align: right;\">\n",
       "      <th></th>\n",
       "      <th>id</th>\n",
       "      <th>Product ID</th>\n",
       "      <th>Air temperature [K]</th>\n",
       "      <th>Process temperature [K]</th>\n",
       "      <th>Rotational speed [rpm]</th>\n",
       "      <th>Torque [Nm]</th>\n",
       "      <th>Tool wear [min]</th>\n",
       "      <th>Machine failure</th>\n",
       "      <th>TWF</th>\n",
       "      <th>HDF</th>\n",
       "      <th>PWF</th>\n",
       "      <th>OSF</th>\n",
       "      <th>RNF</th>\n",
       "      <th>Type_L</th>\n",
       "      <th>Type_M</th>\n",
       "    </tr>\n",
       "  </thead>\n",
       "  <tbody>\n",
       "  </tbody>\n",
       "</table>\n",
       "</div>"
      ],
      "text/plain": [
       "Empty DataFrame\n",
       "Columns: [id, Product ID, Air temperature [K], Process temperature [K], Rotational speed [rpm], Torque [Nm], Tool wear [min], Machine failure, TWF, HDF, PWF, OSF, RNF, Type_L, Type_M]\n",
       "Index: []"
      ]
     },
     "execution_count": 30,
     "metadata": {},
     "output_type": "execute_result"
    }
   ],
   "source": [
    "percentile25 = train['Tool wear [min]'].quantile(0.25)\n",
    "percentile75 = train['Tool wear [min]'].quantile(0.75)\n",
    "iqr = percentile75 - percentile25\n",
    "upper_limit = percentile75 + 1.5 * iqr\n",
    "lower_limit = percentile25 - 1.5 * iqr\n",
    "train[train['Tool wear [min]'] < lower_limit]"
   ]
  },
  {
   "cell_type": "code",
   "execution_count": 31,
   "id": "0153c277",
   "metadata": {},
   "outputs": [
    {
     "data": {
      "text/html": [
       "<div>\n",
       "<style scoped>\n",
       "    .dataframe tbody tr th:only-of-type {\n",
       "        vertical-align: middle;\n",
       "    }\n",
       "\n",
       "    .dataframe tbody tr th {\n",
       "        vertical-align: top;\n",
       "    }\n",
       "\n",
       "    .dataframe thead th {\n",
       "        text-align: right;\n",
       "    }\n",
       "</style>\n",
       "<table border=\"1\" class=\"dataframe\">\n",
       "  <thead>\n",
       "    <tr style=\"text-align: right;\">\n",
       "      <th></th>\n",
       "      <th>id</th>\n",
       "      <th>Product ID</th>\n",
       "      <th>Air temperature [K]</th>\n",
       "      <th>Process temperature [K]</th>\n",
       "      <th>Rotational speed [rpm]</th>\n",
       "      <th>Torque [Nm]</th>\n",
       "      <th>Tool wear [min]</th>\n",
       "      <th>Machine failure</th>\n",
       "      <th>TWF</th>\n",
       "      <th>HDF</th>\n",
       "      <th>PWF</th>\n",
       "      <th>OSF</th>\n",
       "      <th>RNF</th>\n",
       "      <th>Type_L</th>\n",
       "      <th>Type_M</th>\n",
       "    </tr>\n",
       "  </thead>\n",
       "  <tbody>\n",
       "    <tr>\n",
       "      <th>0</th>\n",
       "      <td>0</td>\n",
       "      <td>50096</td>\n",
       "      <td>1210.0</td>\n",
       "      <td>1210.0</td>\n",
       "      <td>1596.0</td>\n",
       "      <td>36.1</td>\n",
       "      <td>1210.0</td>\n",
       "      <td>0</td>\n",
       "      <td>0</td>\n",
       "      <td>0</td>\n",
       "      <td>0</td>\n",
       "      <td>0</td>\n",
       "      <td>0</td>\n",
       "      <td>1</td>\n",
       "      <td>0</td>\n",
       "    </tr>\n",
       "    <tr>\n",
       "      <th>1</th>\n",
       "      <td>1</td>\n",
       "      <td>20343</td>\n",
       "      <td>1210.0</td>\n",
       "      <td>1210.0</td>\n",
       "      <td>1759.0</td>\n",
       "      <td>29.1</td>\n",
       "      <td>1210.0</td>\n",
       "      <td>0</td>\n",
       "      <td>0</td>\n",
       "      <td>0</td>\n",
       "      <td>0</td>\n",
       "      <td>0</td>\n",
       "      <td>0</td>\n",
       "      <td>0</td>\n",
       "      <td>1</td>\n",
       "    </tr>\n",
       "    <tr>\n",
       "      <th>2</th>\n",
       "      <td>2</td>\n",
       "      <td>49454</td>\n",
       "      <td>1210.0</td>\n",
       "      <td>1210.0</td>\n",
       "      <td>1802.0</td>\n",
       "      <td>26.5</td>\n",
       "      <td>1210.0</td>\n",
       "      <td>0</td>\n",
       "      <td>0</td>\n",
       "      <td>0</td>\n",
       "      <td>0</td>\n",
       "      <td>0</td>\n",
       "      <td>0</td>\n",
       "      <td>1</td>\n",
       "      <td>0</td>\n",
       "    </tr>\n",
       "    <tr>\n",
       "      <th>3</th>\n",
       "      <td>3</td>\n",
       "      <td>53355</td>\n",
       "      <td>1210.0</td>\n",
       "      <td>1210.0</td>\n",
       "      <td>1524.0</td>\n",
       "      <td>44.3</td>\n",
       "      <td>1210.0</td>\n",
       "      <td>0</td>\n",
       "      <td>0</td>\n",
       "      <td>0</td>\n",
       "      <td>0</td>\n",
       "      <td>0</td>\n",
       "      <td>0</td>\n",
       "      <td>1</td>\n",
       "      <td>0</td>\n",
       "    </tr>\n",
       "    <tr>\n",
       "      <th>4</th>\n",
       "      <td>4</td>\n",
       "      <td>24050</td>\n",
       "      <td>1210.0</td>\n",
       "      <td>1210.0</td>\n",
       "      <td>1641.0</td>\n",
       "      <td>35.4</td>\n",
       "      <td>1210.0</td>\n",
       "      <td>0</td>\n",
       "      <td>0</td>\n",
       "      <td>0</td>\n",
       "      <td>0</td>\n",
       "      <td>0</td>\n",
       "      <td>0</td>\n",
       "      <td>0</td>\n",
       "      <td>1</td>\n",
       "    </tr>\n",
       "    <tr>\n",
       "      <th>...</th>\n",
       "      <td>...</td>\n",
       "      <td>...</td>\n",
       "      <td>...</td>\n",
       "      <td>...</td>\n",
       "      <td>...</td>\n",
       "      <td>...</td>\n",
       "      <td>...</td>\n",
       "      <td>...</td>\n",
       "      <td>...</td>\n",
       "      <td>...</td>\n",
       "      <td>...</td>\n",
       "      <td>...</td>\n",
       "      <td>...</td>\n",
       "      <td>...</td>\n",
       "      <td>...</td>\n",
       "    </tr>\n",
       "    <tr>\n",
       "      <th>136424</th>\n",
       "      <td>136424</td>\n",
       "      <td>22284</td>\n",
       "      <td>1210.0</td>\n",
       "      <td>1210.0</td>\n",
       "      <td>1530.0</td>\n",
       "      <td>37.5</td>\n",
       "      <td>1210.0</td>\n",
       "      <td>0</td>\n",
       "      <td>0</td>\n",
       "      <td>0</td>\n",
       "      <td>0</td>\n",
       "      <td>0</td>\n",
       "      <td>0</td>\n",
       "      <td>0</td>\n",
       "      <td>1</td>\n",
       "    </tr>\n",
       "    <tr>\n",
       "      <th>136425</th>\n",
       "      <td>136425</td>\n",
       "      <td>38017</td>\n",
       "      <td>1210.0</td>\n",
       "      <td>1210.0</td>\n",
       "      <td>1447.0</td>\n",
       "      <td>49.1</td>\n",
       "      <td>1210.0</td>\n",
       "      <td>0</td>\n",
       "      <td>0</td>\n",
       "      <td>0</td>\n",
       "      <td>0</td>\n",
       "      <td>0</td>\n",
       "      <td>0</td>\n",
       "      <td>0</td>\n",
       "      <td>0</td>\n",
       "    </tr>\n",
       "    <tr>\n",
       "      <th>136426</th>\n",
       "      <td>136426</td>\n",
       "      <td>54690</td>\n",
       "      <td>1210.0</td>\n",
       "      <td>1210.0</td>\n",
       "      <td>1524.0</td>\n",
       "      <td>38.5</td>\n",
       "      <td>1210.0</td>\n",
       "      <td>0</td>\n",
       "      <td>0</td>\n",
       "      <td>0</td>\n",
       "      <td>0</td>\n",
       "      <td>0</td>\n",
       "      <td>0</td>\n",
       "      <td>1</td>\n",
       "      <td>0</td>\n",
       "    </tr>\n",
       "    <tr>\n",
       "      <th>136427</th>\n",
       "      <td>136427</td>\n",
       "      <td>53876</td>\n",
       "      <td>1210.0</td>\n",
       "      <td>1210.0</td>\n",
       "      <td>1447.0</td>\n",
       "      <td>46.3</td>\n",
       "      <td>1210.0</td>\n",
       "      <td>0</td>\n",
       "      <td>0</td>\n",
       "      <td>0</td>\n",
       "      <td>0</td>\n",
       "      <td>0</td>\n",
       "      <td>0</td>\n",
       "      <td>1</td>\n",
       "      <td>0</td>\n",
       "    </tr>\n",
       "    <tr>\n",
       "      <th>136428</th>\n",
       "      <td>136428</td>\n",
       "      <td>47937</td>\n",
       "      <td>1210.0</td>\n",
       "      <td>1210.0</td>\n",
       "      <td>1557.0</td>\n",
       "      <td>39.3</td>\n",
       "      <td>1210.0</td>\n",
       "      <td>0</td>\n",
       "      <td>0</td>\n",
       "      <td>0</td>\n",
       "      <td>0</td>\n",
       "      <td>0</td>\n",
       "      <td>0</td>\n",
       "      <td>1</td>\n",
       "      <td>0</td>\n",
       "    </tr>\n",
       "  </tbody>\n",
       "</table>\n",
       "<p>136429 rows × 15 columns</p>\n",
       "</div>"
      ],
      "text/plain": [
       "            id  Product ID  Air temperature [K]  Process temperature [K]  \\\n",
       "0            0       50096               1210.0                   1210.0   \n",
       "1            1       20343               1210.0                   1210.0   \n",
       "2            2       49454               1210.0                   1210.0   \n",
       "3            3       53355               1210.0                   1210.0   \n",
       "4            4       24050               1210.0                   1210.0   \n",
       "...        ...         ...                  ...                      ...   \n",
       "136424  136424       22284               1210.0                   1210.0   \n",
       "136425  136425       38017               1210.0                   1210.0   \n",
       "136426  136426       54690               1210.0                   1210.0   \n",
       "136427  136427       53876               1210.0                   1210.0   \n",
       "136428  136428       47937               1210.0                   1210.0   \n",
       "\n",
       "        Rotational speed [rpm]  Torque [Nm]  Tool wear [min]  Machine failure  \\\n",
       "0                       1596.0         36.1           1210.0                0   \n",
       "1                       1759.0         29.1           1210.0                0   \n",
       "2                       1802.0         26.5           1210.0                0   \n",
       "3                       1524.0         44.3           1210.0                0   \n",
       "4                       1641.0         35.4           1210.0                0   \n",
       "...                        ...          ...              ...              ...   \n",
       "136424                  1530.0         37.5           1210.0                0   \n",
       "136425                  1447.0         49.1           1210.0                0   \n",
       "136426                  1524.0         38.5           1210.0                0   \n",
       "136427                  1447.0         46.3           1210.0                0   \n",
       "136428                  1557.0         39.3           1210.0                0   \n",
       "\n",
       "        TWF  HDF  PWF  OSF  RNF  Type_L  Type_M  \n",
       "0         0    0    0    0    0       1       0  \n",
       "1         0    0    0    0    0       0       1  \n",
       "2         0    0    0    0    0       1       0  \n",
       "3         0    0    0    0    0       1       0  \n",
       "4         0    0    0    0    0       0       1  \n",
       "...     ...  ...  ...  ...  ...     ...     ...  \n",
       "136424    0    0    0    0    0       0       1  \n",
       "136425    0    0    0    0    0       0       0  \n",
       "136426    0    0    0    0    0       1       0  \n",
       "136427    0    0    0    0    0       1       0  \n",
       "136428    0    0    0    0    0       1       0  \n",
       "\n",
       "[136429 rows x 15 columns]"
      ]
     },
     "execution_count": 31,
     "metadata": {},
     "output_type": "execute_result"
    }
   ],
   "source": [
    "train"
   ]
  },
  {
   "cell_type": "code",
   "execution_count": 34,
   "id": "d0b7a81b",
   "metadata": {},
   "outputs": [
    {
     "name": "stderr",
     "output_type": "stream",
     "text": [
      "C:\\Users\\Divyansh Garg\\anaconda3\\lib\\site-packages\\seaborn\\_decorators.py:36: FutureWarning: Pass the following variable as a keyword arg: x. From version 0.12, the only valid positional argument will be `data`, and passing other arguments without an explicit keyword will result in an error or misinterpretation.\n",
      "  warnings.warn(\n"
     ]
    },
    {
     "data": {
      "text/plain": [
       "<AxesSubplot:xlabel='Tool wear [min]'>"
      ]
     },
     "execution_count": 34,
     "metadata": {},
     "output_type": "execute_result"
    },
    {
     "data": {
      "image/png": "[encoded data removed]",
      "text/plain": [
       "<Figure size 432x288 with 1 Axes>"
      ]
     },
     "metadata": {
      "needs_background": "light"
     },
     "output_type": "display_data"
    }
   ],
   "source": [
    "sns.boxplot(train[\"Tool wear [min]\"])"
   ]
  },
  {
   "cell_type": "code",
   "execution_count": 35,
   "id": "91324b6d",
   "metadata": {},
   "outputs": [
    {
     "name": "stdout",
     "output_type": "stream",
     "text": [
      "<class 'pandas.core.frame.DataFrame'>\n",
      "RangeIndex: 90954 entries, 0 to 90953\n",
      "Data columns (total 14 columns):\n",
      " #   Column                   Non-Null Count  Dtype  \n",
      "---  ------                   --------------  -----  \n",
      " 0   id                       90954 non-null  int64  \n",
      " 1   Product ID               90954 non-null  int32  \n",
      " 2   Air temperature [K]      90954 non-null  float64\n",
      " 3   Process temperature [K]  90954 non-null  float64\n",
      " 4   Rotational speed [rpm]   90954 non-null  int64  \n",
      " 5   Torque [Nm]              90954 non-null  float64\n",
      " 6   Tool wear [min]          90954 non-null  int64  \n",
      " 7   TWF                      90954 non-null  int64  \n",
      " 8   HDF                      90954 non-null  int64  \n",
      " 9   PWF                      90954 non-null  int64  \n",
      " 10  OSF                      90954 non-null  int64  \n",
      " 11  RNF                      90954 non-null  int64  \n",
      " 12  Type_L                   90954 non-null  uint8  \n",
      " 13  Type_M                   90954 non-null  uint8  \n",
      "dtypes: float64(3), int32(1), int64(8), uint8(2)\n",
      "memory usage: 8.2 MB\n"
     ]
    }
   ],
   "source": [
    "test.info()"
   ]
  },
  {
   "cell_type": "code",
   "execution_count": 36,
   "id": "522b03c6",
   "metadata": {},
   "outputs": [
    {
     "name": "stderr",
     "output_type": "stream",
     "text": [
      "C:\\Users\\Divyansh Garg\\anaconda3\\lib\\site-packages\\seaborn\\_decorators.py:36: FutureWarning: Pass the following variable as a keyword arg: x. From version 0.12, the only valid positional argument will be `data`, and passing other arguments without an explicit keyword will result in an error or misinterpretation.\n",
      "  warnings.warn(\n"
     ]
    },
    {
     "data": {
      "text/plain": [
       "<AxesSubplot:xlabel='Torque [Nm]'>"
      ]
     },
     "execution_count": 36,
     "metadata": {},
     "output_type": "execute_result"
    },
    {
     "data": {
      "image/png": "[encoded data removed]",
      "text/plain": [
       "<Figure size 432x288 with 1 Axes>"
      ]
     },
     "metadata": {
      "needs_background": "light"
     },
     "output_type": "display_data"
    }
   ],
   "source": [
    "# Finding the IQR\n",
    "percentile25 = test['Torque [Nm]'].quantile(0.25)\n",
    "percentile75 = test['Torque [Nm]'].quantile(0.75)\n",
    "iqr = percentile75 - percentile25\n",
    "upper_limit = percentile75 + 1.5 * iqr\n",
    "lower_limit = percentile25 - 1.5 * iqr\n",
    "new_df_cap = test.copy()\n",
    "import numpy as np\n",
    "new_df_cap['Torque [Nm]'] = np.where(\n",
    "    new_df_cap['Torque [Nm]'] > upper_limit,\n",
    "    upper_limit,\n",
    "    np.where(\n",
    "        new_df_cap['Torque [Nm]'] < lower_limit,\n",
    "        lower_limit,\n",
    "        new_df_cap['Torque [Nm]']\n",
    "    )\n",
    ")\n",
    "sns.boxplot(new_df_cap[\"Torque [Nm]\"])"
   ]
  },
  {
   "cell_type": "code",
   "execution_count": 39,
   "id": "b9758048",
   "metadata": {},
   "outputs": [
    {
     "name": "stderr",
     "output_type": "stream",
     "text": [
      "C:\\Users\\Divyansh Garg\\anaconda3\\lib\\site-packages\\seaborn\\_decorators.py:36: FutureWarning: Pass the following variable as a keyword arg: x. From version 0.12, the only valid positional argument will be `data`, and passing other arguments without an explicit keyword will result in an error or misinterpretation.\n",
      "  warnings.warn(\n"
     ]
    },
    {
     "data": {
      "text/plain": [
       "<AxesSubplot:xlabel='Tool wear [min]'>"
      ]
     },
     "execution_count": 39,
     "metadata": {},
     "output_type": "execute_result"
    },
    {
     "data": {
      "image/png": "[encoded data removed]",
      "text/plain": [
       "<Figure size 432x288 with 1 Axes>"
      ]
     },
     "metadata": {
      "needs_background": "light"
     },
     "output_type": "display_data"
    }
   ],
   "source": [
    "percentile25 = new_df_cap['Tool wear [min]'].quantile(0.25)\n",
    "percentile75 = new_df_cap['Tool wear [min]'].quantile(0.75)\n",
    "iqr = percentile75 - percentile25\n",
    "upper_limit = percentile75 + 1.5 * iqr\n",
    "lower_limit = percentile25 - 1.5 * iqr\n",
    "new_df_cap = new_df_cap.copy()\n",
    "import numpy as np\n",
    "new_df_cap['Tool wear [min]'] = np.where(\n",
    "    new_df_cap['Tool wear [min]'] > upper_limit,\n",
    "    upper_limit,\n",
    "    np.where(\n",
    "        new_df_cap['Tool wear [min]'] < lower_limit,\n",
    "        lower_limit,\n",
    "        new_df_cap['Tool wear [min]']\n",
    "    )\n",
    ")\n",
    "sns.boxplot(new_df_cap[\"Tool wear [min]\"])"
   ]
  },
  {
   "cell_type": "code",
   "execution_count": 42,
   "id": "ab91584b",
   "metadata": {},
   "outputs": [
    {
     "name": "stderr",
     "output_type": "stream",
     "text": [
      "C:\\Users\\Divyansh Garg\\anaconda3\\lib\\site-packages\\seaborn\\_decorators.py:36: FutureWarning: Pass the following variable as a keyword arg: x. From version 0.12, the only valid positional argument will be `data`, and passing other arguments without an explicit keyword will result in an error or misinterpretation.\n",
      "  warnings.warn(\n"
     ]
    },
    {
     "data": {
      "text/plain": [
       "<AxesSubplot:xlabel='Rotational speed [rpm]'>"
      ]
     },
     "execution_count": 42,
     "metadata": {},
     "output_type": "execute_result"
    },
    {
     "data": {
      "image/png": "[encoded data removed]",
      "text/plain": [
       "<Figure size 432x288 with 1 Axes>"
      ]
     },
     "metadata": {
      "needs_background": "light"
     },
     "output_type": "display_data"
    }
   ],
   "source": [
    "percentile25 = new_df_cap['Rotational speed [rpm]'].quantile(0.25)\n",
    "percentile75 = new_df_cap['Rotational speed [rpm]'].quantile(0.75)\n",
    "iqr = percentile75 - percentile25\n",
    "upper_limit = percentile75 + 1.5 * iqr\n",
    "lower_limit = percentile25 - 1.5 * iqr\n",
    "new_df_cap = new_df_cap.copy()\n",
    "import numpy as np\n",
    "new_df_cap['Rotational speed [rpm]'] = np.where(\n",
    "    new_df_cap['Rotational speed [rpm]'] > upper_limit,\n",
    "    upper_limit,\n",
    "    np.where(\n",
    "        new_df_cap['Rotational speed [rpm]'] < lower_limit,\n",
    "        lower_limit,\n",
    "        new_df_cap['Rotational speed [rpm]']\n",
    "    )\n",
    ")\n",
    "sns.boxplot(new_df_cap[\"Rotational speed [rpm]\"])\n"
   ]
  },
  {
   "cell_type": "code",
   "execution_count": 43,
   "id": "f9cb534c",
   "metadata": {},
   "outputs": [
    {
     "name": "stderr",
     "output_type": "stream",
     "text": [
      "C:\\Users\\Divyansh Garg\\anaconda3\\lib\\site-packages\\seaborn\\_decorators.py:36: FutureWarning: Pass the following variable as a keyword arg: x. From version 0.12, the only valid positional argument will be `data`, and passing other arguments without an explicit keyword will result in an error or misinterpretation.\n",
      "  warnings.warn(\n"
     ]
    },
    {
     "data": {
      "text/plain": [
       "<AxesSubplot:xlabel='Process temperature [K]'>"
      ]
     },
     "execution_count": 43,
     "metadata": {},
     "output_type": "execute_result"
    },
    {
     "data": {
      "image/png": "[encoded data removed]",
      "text/plain": [
       "<Figure size 432x288 with 1 Axes>"
      ]
     },
     "metadata": {
      "needs_background": "light"
     },
     "output_type": "display_data"
    }
   ],
   "source": [
    "percentile25 = new_df_cap['Process temperature [K]'].quantile(0.25)\n",
    "percentile75 = new_df_cap['Process temperature [K]'].quantile(0.75)\n",
    "iqr = percentile75 - percentile25\n",
    "upper_limit = percentile75 + 1.5 * iqr\n",
    "lower_limit = percentile25 - 1.5 * iqr\n",
    "new_df_cap = new_df_cap.copy()\n",
    "import numpy as np\n",
    "new_df_cap['Process temperature [K]'] = np.where(\n",
    "    new_df_cap['Process temperature [K]'] > upper_limit,\n",
    "    upper_limit,\n",
    "    np.where(\n",
    "        new_df_cap['Process temperature [K]'] < lower_limit,\n",
    "        lower_limit,\n",
    "        new_df_cap['Process temperature [K]']\n",
    "    )\n",
    ")\n",
    "sns.boxplot(new_df_cap[\"Process temperature [K]\"])\n"
   ]
  },
  {
   "cell_type": "code",
   "execution_count": 44,
   "id": "1f8c06e2",
   "metadata": {},
   "outputs": [
    {
     "name": "stderr",
     "output_type": "stream",
     "text": [
      "C:\\Users\\Divyansh Garg\\anaconda3\\lib\\site-packages\\seaborn\\_decorators.py:36: FutureWarning: Pass the following variable as a keyword arg: x. From version 0.12, the only valid positional argument will be `data`, and passing other arguments without an explicit keyword will result in an error or misinterpretation.\n",
      "  warnings.warn(\n"
     ]
    },
    {
     "data": {
      "text/plain": [
       "<AxesSubplot:xlabel='Air temperature [K]'>"
      ]
     },
     "execution_count": 44,
     "metadata": {},
     "output_type": "execute_result"
    },
    {
     "data": {
      "image/png": "[encoded data removed]",
      "text/plain": [
       "<Figure size 432x288 with 1 Axes>"
      ]
     },
     "metadata": {
      "needs_background": "light"
     },
     "output_type": "display_data"
    }
   ],
   "source": [
    "percentile25 = new_df_cap['Air temperature [K]'].quantile(0.25)\n",
    "percentile75 = new_df_cap['Air temperature [K]'].quantile(0.75)\n",
    "iqr = percentile75 - percentile25\n",
    "upper_limit = percentile75 + 1.5 * iqr\n",
    "lower_limit = percentile25 - 1.5 * iqr\n",
    "new_df_cap = new_df_cap.copy()\n",
    "import numpy as np\n",
    "new_df_cap['Air temperature [K]'] = np.where(\n",
    "    new_df_cap['Air temperature [K]'] > upper_limit,\n",
    "    upper_limit,\n",
    "    np.where(\n",
    "        new_df_cap['Air temperature [K]'] < lower_limit,\n",
    "        lower_limit,\n",
    "        new_df_cap['Air temperature [K]']\n",
    "    )\n",
    ")\n",
    "sns.boxplot(new_df_cap[\"Air temperature [K]\"])\n"
   ]
  },
  {
   "cell_type": "code",
   "execution_count": 45,
   "id": "9fab8439",
   "metadata": {},
   "outputs": [],
   "source": [
    "test = new_df_cap.copy()"
   ]
  },
  {
   "cell_type": "code",
   "execution_count": 47,
   "id": "052afdbe",
   "metadata": {},
   "outputs": [
    {
     "name": "stderr",
     "output_type": "stream",
     "text": [
      "C:\\Users\\Divyansh Garg\\anaconda3\\lib\\site-packages\\seaborn\\_decorators.py:36: FutureWarning: Pass the following variable as a keyword arg: x. From version 0.12, the only valid positional argument will be `data`, and passing other arguments without an explicit keyword will result in an error or misinterpretation.\n",
      "  warnings.warn(\n"
     ]
    },
    {
     "data": {
      "text/plain": [
       "<AxesSubplot:xlabel='Product ID'>"
      ]
     },
     "execution_count": 47,
     "metadata": {},
     "output_type": "execute_result"
    },
    {
     "data": {
      "image/png": "[encoded data removed]",
      "text/plain": [
       "<Figure size 432x288 with 1 Axes>"
      ]
     },
     "metadata": {
      "needs_background": "light"
     },
     "output_type": "display_data"
    }
   ],
   "source": [
    "percentile25 = test['Product ID'].quantile(0.25)\n",
    "percentile75 = test['Product ID'].quantile(0.75)\n",
    "iqr = percentile75 - percentile25\n",
    "iqr\n",
    "sns.boxplot(test[\"Product ID\"])"
   ]
  },
  {
   "cell_type": "code",
   "execution_count": 49,
   "id": "ebfcb08a",
   "metadata": {},
   "outputs": [
    {
     "data": {
      "text/plain": [
       "Index(['id', 'Product ID', 'Air temperature [K]', 'Process temperature [K]',\n",
       "       'Rotational speed [rpm]', 'Torque [Nm]', 'Tool wear [min]',\n",
       "       'Machine failure', 'TWF', 'HDF', 'PWF', 'OSF', 'RNF', 'Type_L',\n",
       "       'Type_M'],\n",
       "      dtype='object')"
      ]
     },
     "execution_count": 49,
     "metadata": {},
     "output_type": "execute_result"
    }
   ],
   "source": [
    "train.columns"
   ]
  },
  {
   "cell_type": "code",
   "execution_count": 55,
   "id": "0bcfa2e5",
   "metadata": {},
   "outputs": [],
   "source": [
    "column = ['id', 'Product ID', 'Air temperature [K]', 'Process temperature [K]',\n",
    "       'Rotational speed [rpm]', 'Torque [Nm]', 'Tool wear [min]', 'TWF', 'HDF', 'PWF', 'OSF', 'RNF', 'Type_L',\n",
    "       'Type_M']\n",
    "X=train[column].values\n",
    "y=train[ ['Machine failure']]\n",
    "from sklearn.model_selection import train_test_split\n",
    "X_train, X_test, y_train, y_test = train_test_split(X,y,test_size=1/3,random_state=40)"
   ]
  },
  {
   "cell_type": "code",
   "execution_count": 56,
   "id": "2fd1711c",
   "metadata": {},
   "outputs": [
    {
     "data": {
      "text/plain": [
       "array([[0.00000e+00, 5.00960e+04, 1.21000e+03, ..., 0.00000e+00,\n",
       "        1.00000e+00, 0.00000e+00],\n",
       "       [1.00000e+00, 2.03430e+04, 1.21000e+03, ..., 0.00000e+00,\n",
       "        0.00000e+00, 1.00000e+00],\n",
       "       [2.00000e+00, 4.94540e+04, 1.21000e+03, ..., 0.00000e+00,\n",
       "        1.00000e+00, 0.00000e+00],\n",
       "       ...,\n",
       "       [1.36426e+05, 5.46900e+04, 1.21000e+03, ..., 0.00000e+00,\n",
       "        1.00000e+00, 0.00000e+00],\n",
       "       [1.36427e+05, 5.38760e+04, 1.21000e+03, ..., 0.00000e+00,\n",
       "        1.00000e+00, 0.00000e+00],\n",
       "       [1.36428e+05, 4.79370e+04, 1.21000e+03, ..., 0.00000e+00,\n",
       "        1.00000e+00, 0.00000e+00]])"
      ]
     },
     "execution_count": 56,
     "metadata": {},
     "output_type": "execute_result"
    }
   ],
   "source": [
    "X"
   ]
  },
  {
   "cell_type": "code",
   "execution_count": 57,
   "id": "24a7077a",
   "metadata": {},
   "outputs": [
    {
     "data": {
      "text/html": [
       "<div>\n",
       "<style scoped>\n",
       "    .dataframe tbody tr th:only-of-type {\n",
       "        vertical-align: middle;\n",
       "    }\n",
       "\n",
       "    .dataframe tbody tr th {\n",
       "        vertical-align: top;\n",
       "    }\n",
       "\n",
       "    .dataframe thead th {\n",
       "        text-align: right;\n",
       "    }\n",
       "</style>\n",
       "<table border=\"1\" class=\"dataframe\">\n",
       "  <thead>\n",
       "    <tr style=\"text-align: right;\">\n",
       "      <th></th>\n",
       "      <th>Machine failure</th>\n",
       "    </tr>\n",
       "  </thead>\n",
       "  <tbody>\n",
       "    <tr>\n",
       "      <th>0</th>\n",
       "      <td>0</td>\n",
       "    </tr>\n",
       "    <tr>\n",
       "      <th>1</th>\n",
       "      <td>0</td>\n",
       "    </tr>\n",
       "    <tr>\n",
       "      <th>2</th>\n",
       "      <td>0</td>\n",
       "    </tr>\n",
       "    <tr>\n",
       "      <th>3</th>\n",
       "      <td>0</td>\n",
       "    </tr>\n",
       "    <tr>\n",
       "      <th>4</th>\n",
       "      <td>0</td>\n",
       "    </tr>\n",
       "    <tr>\n",
       "      <th>...</th>\n",
       "      <td>...</td>\n",
       "    </tr>\n",
       "    <tr>\n",
       "      <th>136424</th>\n",
       "      <td>0</td>\n",
       "    </tr>\n",
       "    <tr>\n",
       "      <th>136425</th>\n",
       "      <td>0</td>\n",
       "    </tr>\n",
       "    <tr>\n",
       "      <th>136426</th>\n",
       "      <td>0</td>\n",
       "    </tr>\n",
       "    <tr>\n",
       "      <th>136427</th>\n",
       "      <td>0</td>\n",
       "    </tr>\n",
       "    <tr>\n",
       "      <th>136428</th>\n",
       "      <td>0</td>\n",
       "    </tr>\n",
       "  </tbody>\n",
       "</table>\n",
       "<p>136429 rows × 1 columns</p>\n",
       "</div>"
      ],
      "text/plain": [
       "        Machine failure\n",
       "0                     0\n",
       "1                     0\n",
       "2                     0\n",
       "3                     0\n",
       "4                     0\n",
       "...                 ...\n",
       "136424                0\n",
       "136425                0\n",
       "136426                0\n",
       "136427                0\n",
       "136428                0\n",
       "\n",
       "[136429 rows x 1 columns]"
      ]
     },
     "execution_count": 57,
     "metadata": {},
     "output_type": "execute_result"
    }
   ],
   "source": [
    "y"
   ]
  },
  {
   "cell_type": "code",
   "execution_count": 58,
   "id": "f337318a",
   "metadata": {},
   "outputs": [
    {
     "name": "stderr",
     "output_type": "stream",
     "text": [
      "C:\\Users\\Divyansh Garg\\anaconda3\\lib\\site-packages\\sklearn\\utils\\validation.py:1184: DataConversionWarning: A column-vector y was passed when a 1d array was expected. Please change the shape of y to (n_samples, ), for example using ravel().\n",
      "  y = column_or_1d(y, warn=True)\n"
     ]
    },
    {
     "data": {
      "text/html": [
       "<style>#sk-container-id-1 {color: black;}#sk-container-id-1 pre{padding: 0;}#sk-container-id-1 div.sk-toggleable {background-color: white;}#sk-container-id-1 label.sk-toggleable__label {cursor: pointer;display: block;width: 100%;margin-bottom: 0;padding: 0.3em;box-sizing: border-box;text-align: center;}#sk-container-id-1 label.sk-toggleable__label-arrow:before {content: \"▸\";float: left;margin-right: 0.25em;color: #696969;}#sk-container-id-1 label.sk-toggleable__label-arrow:hover:before {color: black;}#sk-container-id-1 div.sk-estimator:hover label.sk-toggleable__label-arrow:before {color: black;}#sk-container-id-1 div.sk-toggleable__content {max-height: 0;max-width: 0;overflow: hidden;text-align: left;background-color: #f0f8ff;}#sk-container-id-1 div.sk-toggleable__content pre {margin: 0.2em;color: black;border-radius: 0.25em;background-color: #f0f8ff;}#sk-container-id-1 input.sk-toggleable__control:checked~div.sk-toggleable__content {max-height: 200px;max-width: 100%;overflow: auto;}#sk-container-id-1 input.sk-toggleable__control:checked~label.sk-toggleable__label-arrow:before {content: \"▾\";}#sk-container-id-1 div.sk-estimator input.sk-toggleable__control:checked~label.sk-toggleable__label {background-color: #d4ebff;}#sk-container-id-1 div.sk-label input.sk-toggleable__control:checked~label.sk-toggleable__label {background-color: #d4ebff;}#sk-container-id-1 input.sk-hidden--visually {border: 0;clip: rect(1px 1px 1px 1px);clip: rect(1px, 1px, 1px, 1px);height: 1px;margin: -1px;overflow: hidden;padding: 0;position: absolute;width: 1px;}#sk-container-id-1 div.sk-estimator {font-family: monospace;background-color: #f0f8ff;border: 1px dotted black;border-radius: 0.25em;box-sizing: border-box;margin-bottom: 0.5em;}#sk-container-id-1 div.sk-estimator:hover {background-color: #d4ebff;}#sk-container-id-1 div.sk-parallel-item::after {content: \"\";width: 100%;border-bottom: 1px solid gray;flex-grow: 1;}#sk-container-id-1 div.sk-label:hover label.sk-toggleable__label {background-color: #d4ebff;}#sk-container-id-1 div.sk-serial::before {content: \"\";position: absolute;border-left: 1px solid gray;box-sizing: border-box;top: 0;bottom: 0;left: 50%;z-index: 0;}#sk-container-id-1 div.sk-serial {display: flex;flex-direction: column;align-items: center;background-color: white;padding-right: 0.2em;padding-left: 0.2em;position: relative;}#sk-container-id-1 div.sk-item {position: relative;z-index: 1;}#sk-container-id-1 div.sk-parallel {display: flex;align-items: stretch;justify-content: center;background-color: white;position: relative;}#sk-container-id-1 div.sk-item::before, #sk-container-id-1 div.sk-parallel-item::before {content: \"\";position: absolute;border-left: 1px solid gray;box-sizing: border-box;top: 0;bottom: 0;left: 50%;z-index: -1;}#sk-container-id-1 div.sk-parallel-item {display: flex;flex-direction: column;z-index: 1;position: relative;background-color: white;}#sk-container-id-1 div.sk-parallel-item:first-child::after {align-self: flex-end;width: 50%;}#sk-container-id-1 div.sk-parallel-item:last-child::after {align-self: flex-start;width: 50%;}#sk-container-id-1 div.sk-parallel-item:only-child::after {width: 0;}#sk-container-id-1 div.sk-dashed-wrapped {border: 1px dashed gray;margin: 0 0.4em 0.5em 0.4em;box-sizing: border-box;padding-bottom: 0.4em;background-color: white;}#sk-container-id-1 div.sk-label label {font-family: monospace;font-weight: bold;display: inline-block;line-height: 1.2em;}#sk-container-id-1 div.sk-label-container {text-align: center;}#sk-container-id-1 div.sk-container {/* jupyter's `normalize.less` sets `[hidden] { display: none; }` but bootstrap.min.css set `[hidden] { display: none !important; }` so we also need the `!important` here to be able to override the default hidden behavior on the sphinx rendered scikit-learn.org. See: https://github.com/scikit-learn/scikit-learn/issues/21755 */display: inline-block !important;position: relative;}#sk-container-id-1 div.sk-text-repr-fallback {display: none;}</style><div id=\"sk-container-id-1\" class=\"sk-top-container\"><div class=\"sk-text-repr-fallback\"><pre>LogisticRegression()</pre><b>In a Jupyter environment, please rerun this cell to show the HTML representation or trust the notebook. <br />On GitHub, the HTML representation is unable to render, please try loading this page with nbviewer.org.</b></div><div class=\"sk-container\" hidden><div class=\"sk-item\"><div class=\"sk-estimator sk-toggleable\"><input class=\"sk-toggleable__control sk-hidden--visually\" id=\"sk-estimator-id-1\" type=\"checkbox\" checked><label for=\"sk-estimator-id-1\" class=\"sk-toggleable__label sk-toggleable__label-arrow\">LogisticRegression</label><div class=\"sk-toggleable__content\"><pre>LogisticRegression()</pre></div></div></div></div></div>"
      ],
      "text/plain": [
       "LogisticRegression()"
      ]
     },
     "execution_count": 58,
     "metadata": {},
     "output_type": "execute_result"
    }
   ],
   "source": [
    "from sklearn.linear_model import LogisticRegression\n",
    "regressor = LogisticRegression()\n",
    "regressor.fit(X_train,y_train) "
   ]
  },
  {
   "cell_type": "code",
   "execution_count": 59,
   "id": "e2b31aaa",
   "metadata": {},
   "outputs": [
    {
     "data": {
      "text/plain": [
       "array([0, 0, 0, ..., 0, 0, 0], dtype=int64)"
      ]
     },
     "execution_count": 59,
     "metadata": {},
     "output_type": "execute_result"
    }
   ],
   "source": [
    "y_pred = regressor.predict(X_test) \n",
    "y_pred"
   ]
  },
  {
   "cell_type": "code",
   "execution_count": 60,
   "id": "0d5eceba",
   "metadata": {},
   "outputs": [
    {
     "data": {
      "text/html": [
       "<div>\n",
       "<style scoped>\n",
       "    .dataframe tbody tr th:only-of-type {\n",
       "        vertical-align: middle;\n",
       "    }\n",
       "\n",
       "    .dataframe tbody tr th {\n",
       "        vertical-align: top;\n",
       "    }\n",
       "\n",
       "    .dataframe thead th {\n",
       "        text-align: right;\n",
       "    }\n",
       "</style>\n",
       "<table border=\"1\" class=\"dataframe\">\n",
       "  <thead>\n",
       "    <tr style=\"text-align: right;\">\n",
       "      <th></th>\n",
       "      <th>Machine failure</th>\n",
       "    </tr>\n",
       "  </thead>\n",
       "  <tbody>\n",
       "    <tr>\n",
       "      <th>126976</th>\n",
       "      <td>0</td>\n",
       "    </tr>\n",
       "    <tr>\n",
       "      <th>40449</th>\n",
       "      <td>0</td>\n",
       "    </tr>\n",
       "    <tr>\n",
       "      <th>60425</th>\n",
       "      <td>0</td>\n",
       "    </tr>\n",
       "    <tr>\n",
       "      <th>43575</th>\n",
       "      <td>0</td>\n",
       "    </tr>\n",
       "    <tr>\n",
       "      <th>17994</th>\n",
       "      <td>0</td>\n",
       "    </tr>\n",
       "    <tr>\n",
       "      <th>...</th>\n",
       "      <td>...</td>\n",
       "    </tr>\n",
       "    <tr>\n",
       "      <th>70930</th>\n",
       "      <td>0</td>\n",
       "    </tr>\n",
       "    <tr>\n",
       "      <th>41449</th>\n",
       "      <td>0</td>\n",
       "    </tr>\n",
       "    <tr>\n",
       "      <th>69027</th>\n",
       "      <td>0</td>\n",
       "    </tr>\n",
       "    <tr>\n",
       "      <th>65257</th>\n",
       "      <td>0</td>\n",
       "    </tr>\n",
       "    <tr>\n",
       "      <th>21542</th>\n",
       "      <td>0</td>\n",
       "    </tr>\n",
       "  </tbody>\n",
       "</table>\n",
       "<p>45477 rows × 1 columns</p>\n",
       "</div>"
      ],
      "text/plain": [
       "        Machine failure\n",
       "126976                0\n",
       "40449                 0\n",
       "60425                 0\n",
       "43575                 0\n",
       "17994                 0\n",
       "...                 ...\n",
       "70930                 0\n",
       "41449                 0\n",
       "69027                 0\n",
       "65257                 0\n",
       "21542                 0\n",
       "\n",
       "[45477 rows x 1 columns]"
      ]
     },
     "execution_count": 60,
     "metadata": {},
     "output_type": "execute_result"
    }
   ],
   "source": [
    "y_test"
   ]
  },
  {
   "cell_type": "code",
   "execution_count": 62,
   "id": "185b2d6d",
   "metadata": {},
   "outputs": [
    {
     "name": "stdout",
     "output_type": "stream",
     "text": [
      "MAE: 0.015524330980495635\n",
      "MSE: 0.015524330980495635\n",
      "RMSE: 0.12459667323205557\n",
      "r2_score -0.015769136271247097\n"
     ]
    }
   ],
   "source": [
    "from sklearn.metrics import mean_absolute_error,mean_squared_error,r2_score,accuracy_score\n",
    " \n",
    "mae = mean_absolute_error(y_true=y_test,y_pred=y_pred)\n",
    "#squared True returns MSE value, False returns RMSE value.\n",
    "mse = mean_squared_error(y_true=y_test,y_pred=y_pred) #default=True\n",
    "rmse = mean_squared_error(y_true=y_test,y_pred=y_pred,squared=False)\n",
    "r2_score = r2_score(y_true = y_test, y_pred=y_pred)\n",
    "print(\"MAE:\",mae)\n",
    "print(\"MSE:\",mse)\n",
    "print(\"RMSE:\",rmse)\n",
    "print(\"r2_score\",r2_score)"
   ]
  },
  {
   "cell_type": "code",
   "execution_count": 63,
   "id": "dd8bf6a1",
   "metadata": {},
   "outputs": [
    {
     "name": "stdout",
     "output_type": "stream",
     "text": [
      "0.9844756690195043\n"
     ]
    }
   ],
   "source": [
    "print(accuracy_score(y_test,y_pred))"
   ]
  },
  {
   "cell_type": "code",
   "execution_count": 66,
   "id": "b0bc0707",
   "metadata": {},
   "outputs": [
    {
     "name": "stderr",
     "output_type": "stream",
     "text": [
      "C:\\Users\\Divyansh Garg\\anaconda3\\lib\\site-packages\\sklearn\\utils\\validation.py:1184: DataConversionWarning: A column-vector y was passed when a 1d array was expected. Please change the shape of y to (n_samples, ), for example using ravel().\n",
      "  y = column_or_1d(y, warn=True)\n",
      "C:\\Users\\Divyansh Garg\\anaconda3\\lib\\site-packages\\sklearn\\base.py:457: UserWarning: X has feature names, but LogisticRegression was fitted without feature names\n",
      "  warnings.warn(\n"
     ]
    }
   ],
   "source": [
    "lr = LogisticRegression()\n",
    "lr.fit(X,y)\n",
    "holdout_predictions = lr.predict(test[column])"
   ]
  },
  {
   "cell_type": "code",
   "execution_count": 67,
   "id": "a5ec9ef6",
   "metadata": {},
   "outputs": [
    {
     "data": {
      "text/plain": [
       "array([1, 0, 1, ..., 1, 1, 0], dtype=int64)"
      ]
     },
     "execution_count": 67,
     "metadata": {},
     "output_type": "execute_result"
    }
   ],
   "source": [
    "holdout_predictions"
   ]
  },
  {
   "cell_type": "code",
   "execution_count": 68,
   "id": "167221df",
   "metadata": {},
   "outputs": [],
   "source": [
    "holdout_ids = test[\"id\"]\n",
    "sublesson_df = {\"id\": holdout_ids,\n",
    "                 \"Machine failure\": holdout_predictions}\n",
    "sublesson = pd.DataFrame(sublesson_df)"
   ]
  },
  {
   "cell_type": "code",
   "execution_count": 69,
   "id": "a52cc9b0",
   "metadata": {},
   "outputs": [],
   "source": [
    "sublesson.to_csv(\"sublesson.csv\",index=False)"
   ]
  },
  {
   "cell_type": "code",
   "execution_count": null,
   "id": "dd565e5d",
   "metadata": {},
   "outputs": [],
   "source": []
  }
 ],
 "metadata": {
  "kernelspec": {
   "display_name": "Python 3 (ipykernel)",
   "language": "python",
   "name": "python3"
  },
  "language_info": {
   "codemirror_mode": {
    "name": "ipython",
    "version": 3
   },
   "file_extension": ".py",
   "mimetype": "text/x-python",
   "name": "python",
   "nbconvert_exporter": "python",
   "pygments_lexer": "ipython3",
   "version": "3.9.12"
  }
 },
 "nbformat": 4,
 "nbformat_minor": 5
}
